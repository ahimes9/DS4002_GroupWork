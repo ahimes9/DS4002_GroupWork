{
 "cells": [
  {
   "cell_type": "code",
   "execution_count": 1,
   "id": "455692f5-67ce-4d48-a4d5-31ac0e69cde9",
   "metadata": {},
   "outputs": [],
   "source": [
    "import glob\n",
    "import zipfile\n",
    "import matplotlib.pyplot as plt\n",
    "import numpy as np\n",
    "import PIL\n",
    "import tensorflow as tf\n",
    "\n",
    "from tensorflow import keras\n",
    "from tensorflow.keras import layers\n",
    "from tensorflow.keras.models import Sequential"
   ]
  },
  {
   "cell_type": "code",
   "execution_count": 2,
   "id": "106869b8-a0a2-4795-8f1d-28f9ba23a550",
   "metadata": {},
   "outputs": [
    {
     "data": {
      "text/plain": [
       "['/Users/alexaowen/Downloads/archive (4).zip']"
      ]
     },
     "execution_count": 2,
     "metadata": {},
     "output_type": "execute_result"
    }
   ],
   "source": [
    "files = glob.glob('/Users/alexaowen/Downloads/archive (4).zip')\n",
    "files"
   ]
  },
  {
   "cell_type": "code",
   "execution_count": 3,
   "id": "473673a6-56bc-4fad-ba73-8a464d5df386",
   "metadata": {},
   "outputs": [
    {
     "data": {
      "text/plain": [
       "['/Users/alexaowen/Downloads/archive (4).zip']"
      ]
     },
     "execution_count": 3,
     "metadata": {},
     "output_type": "execute_result"
    }
   ],
   "source": [
    "files"
   ]
  },
  {
   "cell_type": "code",
   "execution_count": 4,
   "id": "659b45d3-65e1-4cae-a096-e2b344eb494c",
   "metadata": {},
   "outputs": [
    {
     "name": "stdout",
     "output_type": "stream",
     "text": [
      "Unzipping: /Users/alexaowen/Downloads/archive (4).zip\n"
     ]
    }
   ],
   "source": [
    "for file in files:\n",
    "    print('Unzipping:',file)\n",
    "\n",
    "    with zipfile.ZipFile(file, 'r') as zip_ref:\n",
    "        zip_ref.extractall('data/raw')"
   ]
  },
  {
   "cell_type": "code",
   "execution_count": 7,
   "id": "7b12403f-b199-4743-8de7-1a0a7fbba186",
   "metadata": {},
   "outputs": [
    {
     "name": "stdout",
     "output_type": "stream",
     "text": [
      "Found 4502 files belonging to 4 classes.\n",
      "Using 3602 files for training.\n"
     ]
    }
   ],
   "source": [
    "batch_size = 32\n",
    "img_height = 180\n",
    "img_width = 180\n",
    "\n",
    "train_ds = tf.keras.utils.image_dataset_from_directory(\n",
    "  \"Plants_2\",\n",
    "  validation_split=0.2,\n",
    "  subset=\"training\",\n",
    "  seed=123,\n",
    "  image_size=(img_height, img_width),\n",
    "  batch_size=batch_size)"
   ]
  },
  {
   "cell_type": "code",
   "execution_count": 9,
   "id": "731bcdb8-0d18-4f77-95f8-dbfb2f9af219",
   "metadata": {},
   "outputs": [
    {
     "name": "stdout",
     "output_type": "stream",
     "text": [
      "Found 4502 files belonging to 4 classes.\n",
      "Using 900 files for validation.\n"
     ]
    }
   ],
   "source": [
    "val_ds = tf.keras.utils.image_dataset_from_directory(\n",
    "  \"Plants_2\",\n",
    "  validation_split=0.2,\n",
    "  subset=\"validation\",\n",
    "  seed=123,\n",
    "  image_size=(img_height, img_width),\n",
    "  batch_size=batch_size)"
   ]
  },
  {
   "cell_type": "code",
   "execution_count": 10,
   "id": "37536dbc-aa79-42ad-a176-58492f355606",
   "metadata": {},
   "outputs": [
    {
     "name": "stdout",
     "output_type": "stream",
     "text": [
      "['images to predict', 'test', 'train', 'valid']\n"
     ]
    }
   ],
   "source": [
    "class_names = train_ds.class_names\n",
    "print(class_names)"
   ]
  },
  {
   "cell_type": "code",
   "execution_count": 11,
   "id": "016c16b4-b174-4f7f-b546-e94ae1d22d91",
   "metadata": {},
   "outputs": [],
   "source": [
    "AUTOTUNE = tf.data.AUTOTUNE\n",
    "\n",
    "train_ds = train_ds.cache().shuffle(1000).prefetch(buffer_size=AUTOTUNE)\n",
    "val_ds = val_ds.cache().prefetch(buffer_size=AUTOTUNE)"
   ]
  },
  {
   "cell_type": "code",
   "execution_count": 12,
   "id": "b4142067-b237-4aec-92a2-5c26f726389f",
   "metadata": {},
   "outputs": [],
   "source": [
    "normalization_layer = layers.Rescaling(1./255)"
   ]
  },
  {
   "cell_type": "code",
   "execution_count": 13,
   "id": "a0f517a4-e15a-4892-be54-0436e9d26650",
   "metadata": {},
   "outputs": [
    {
     "name": "stdout",
     "output_type": "stream",
     "text": [
      "0.0056645414 0.46096686\n"
     ]
    }
   ],
   "source": [
    "normalized_ds = train_ds.map(lambda x, y: (normalization_layer(x), y))\n",
    "image_batch, labels_batch = next(iter(normalized_ds))\n",
    "first_image = image_batch[0]\n",
    "# Notice the pixel values are now in `[0,1]`.\n",
    "print(np.min(first_image), np.max(first_image))"
   ]
  },
  {
   "cell_type": "code",
   "execution_count": 29,
   "id": "c6410450-b888-45f4-8bf5-8568f2934cd9",
   "metadata": {},
   "outputs": [],
   "source": [
    "num_classes = len(class_names)\n",
    "\n",
    "model_A = Sequential([\n",
    "  layers.Rescaling(1./255, input_shape=(img_height, img_width, 3)),\n",
    "  layers.Conv2D(16, 3, padding='same', activation='relu'),\n",
    "  layers.MaxPooling2D(),\n",
    "  layers.Conv2D(32, 3, padding='same', activation='relu'),\n",
    "  layers.MaxPooling2D(),\n",
    "  layers.Conv2D(64, 3, padding='same', activation='relu'),\n",
    "  layers.MaxPooling2D(),\n",
    "  layers.Flatten(),\n",
    "  layers.Dense(128, activation='relu'),\n",
    "  layers.Dense(num_classes)\n",
    "])"
   ]
  },
  {
   "cell_type": "code",
   "execution_count": 30,
   "id": "fb881f46-9c5c-4913-8d02-897c099249de",
   "metadata": {},
   "outputs": [],
   "source": [
    "model_A.compile(optimizer='adam',\n",
    "              loss=tf.keras.losses.SparseCategoricalCrossentropy(from_logits=True),\n",
    "              metrics=['accuracy'])"
   ]
  },
  {
   "cell_type": "code",
   "execution_count": 31,
   "id": "e8f6f53d-f5f6-45a8-807d-66c1efaea62c",
   "metadata": {},
   "outputs": [
    {
     "name": "stdout",
     "output_type": "stream",
     "text": [
      "Model: \"sequential_3\"\n",
      "_________________________________________________________________\n",
      " Layer (type)                Output Shape              Param #   \n",
      "=================================================================\n",
      " rescaling_3 (Rescaling)     (None, 180, 180, 3)       0         \n",
      "                                                                 \n",
      " conv2d_6 (Conv2D)           (None, 180, 180, 16)      448       \n",
      "                                                                 \n",
      " max_pooling2d_6 (MaxPooling  (None, 90, 90, 16)       0         \n",
      " 2D)                                                             \n",
      "                                                                 \n",
      " conv2d_7 (Conv2D)           (None, 90, 90, 32)        4640      \n",
      "                                                                 \n",
      " max_pooling2d_7 (MaxPooling  (None, 45, 45, 32)       0         \n",
      " 2D)                                                             \n",
      "                                                                 \n",
      " conv2d_8 (Conv2D)           (None, 45, 45, 64)        18496     \n",
      "                                                                 \n",
      " max_pooling2d_8 (MaxPooling  (None, 22, 22, 64)       0         \n",
      " 2D)                                                             \n",
      "                                                                 \n",
      " flatten_2 (Flatten)         (None, 30976)             0         \n",
      "                                                                 \n",
      " dense_3 (Dense)             (None, 128)               3965056   \n",
      "                                                                 \n",
      " dense_4 (Dense)             (None, 4)                 516       \n",
      "                                                                 \n",
      "=================================================================\n",
      "Total params: 3,989,156\n",
      "Trainable params: 3,989,156\n",
      "Non-trainable params: 0\n",
      "_________________________________________________________________\n"
     ]
    }
   ],
   "source": [
    "model_A.summary()"
   ]
  },
  {
   "cell_type": "code",
   "execution_count": 53,
   "id": "3b1bc40d-2e66-4613-a2fd-12c3a0f23a5f",
   "metadata": {},
   "outputs": [
    {
     "name": "stdout",
     "output_type": "stream",
     "text": [
      "Epoch 1/10\n",
      "113/113 [==============================] - 39s 343ms/step - loss: 0.0660 - accuracy: 0.9806 - val_loss: 0.6259 - val_accuracy: 0.9489\n",
      "Epoch 2/10\n",
      "113/113 [==============================] - 37s 331ms/step - loss: 0.0398 - accuracy: 0.9886 - val_loss: 0.6294 - val_accuracy: 0.9411\n",
      "Epoch 3/10\n",
      "113/113 [==============================] - 40s 350ms/step - loss: 0.0423 - accuracy: 0.9856 - val_loss: 0.7298 - val_accuracy: 0.9467\n",
      "Epoch 4/10\n",
      "113/113 [==============================] - 38s 339ms/step - loss: 0.0283 - accuracy: 0.9925 - val_loss: 0.6747 - val_accuracy: 0.9233\n",
      "Epoch 5/10\n",
      "113/113 [==============================] - 38s 332ms/step - loss: 0.0174 - accuracy: 0.9961 - val_loss: 0.7888 - val_accuracy: 0.9356\n",
      "Epoch 6/10\n",
      "113/113 [==============================] - 40s 353ms/step - loss: 0.0024 - accuracy: 1.0000 - val_loss: 1.1026 - val_accuracy: 0.9478\n",
      "Epoch 7/10\n",
      "113/113 [==============================] - 46s 404ms/step - loss: 8.0739e-04 - accuracy: 1.0000 - val_loss: 1.1595 - val_accuracy: 0.9478\n",
      "Epoch 8/10\n",
      "113/113 [==============================] - 39s 343ms/step - loss: 4.6276e-04 - accuracy: 1.0000 - val_loss: 1.2510 - val_accuracy: 0.9478\n",
      "Epoch 9/10\n",
      "113/113 [==============================] - 37s 328ms/step - loss: 3.1251e-04 - accuracy: 1.0000 - val_loss: 1.2724 - val_accuracy: 0.9478\n",
      "Epoch 10/10\n",
      "113/113 [==============================] - 38s 333ms/step - loss: 2.3525e-04 - accuracy: 1.0000 - val_loss: 1.3395 - val_accuracy: 0.9478\n"
     ]
    }
   ],
   "source": [
    "epochs=10\n",
    "history_A = model_A.fit(\n",
    "  train_ds,\n",
    "  validation_data=val_ds,\n",
    "  epochs=epochs\n",
    ")"
   ]
  },
  {
   "cell_type": "code",
   "execution_count": 56,
   "id": "803d5762-e4a9-45b3-abf5-0535d42cef87",
   "metadata": {},
   "outputs": [
    {
     "data": {
      "image/png": "[encoded data removed]",
      "text/plain": [
       "<Figure size 576x576 with 2 Axes>"
      ]
     },
     "metadata": {
      "needs_background": "light"
     },
     "output_type": "display_data"
    }
   ],
   "source": [
    "acc = history_A.history['accuracy']\n",
    "val_acc = history_A.history['val_accuracy']\n",
    "\n",
    "loss = history_A.history['loss']\n",
    "val_loss = history_A.history['val_loss']\n",
    "\n",
    "epochs_range = range(epochs)\n",
    "\n",
    "plt.figure(figsize=(8, 8))\n",
    "plt.subplot(1, 2, 1)\n",
    "plt.plot(epochs_range, acc, label='Training Accuracy')\n",
    "plt.plot(epochs_range, val_acc, label='Validation Accuracy')\n",
    "plt.legend(loc='lower right')\n",
    "plt.title('Training and Validation Accuracy')\n",
    "plt.xlabel(\"Epoch\")\n",
    "plt.ylabel(\"Accuracy (%)\")\n",
    "\n",
    "plt.subplot(1, 2, 2)\n",
    "plt.plot(epochs_range, loss, label='Training Loss')\n",
    "plt.plot(epochs_range, val_loss, label='Validation Loss')\n",
    "plt.legend(loc='upper left')\n",
    "plt.title('Training and Validation Loss')\n",
    "plt.xlabel(\"Epoch\")\n",
    "plt.ylabel(\"Loss (%)\")\n",
    "plt.tight_layout()\n",
    "plt.show()\n"
   ]
  },
  {
   "cell_type": "code",
   "execution_count": 43,
   "id": "2ebe5280-2d1e-447e-bfac-e6e0d375a711",
   "metadata": {},
   "outputs": [],
   "source": [
    "data_augmentation = keras.Sequential(\n",
    "  [\n",
    "    layers.RandomFlip(\"horizontal\",\n",
    "                      input_shape=(img_height,\n",
    "                                  img_width,\n",
    "                                  3)),\n",
    "    layers.RandomRotation(0.1),\n",
    "    layers.RandomZoom(0.1),\n",
    "  ]\n",
    ")"
   ]
  },
  {
   "cell_type": "code",
   "execution_count": 44,
   "id": "81a06158-bf5e-454e-84cd-93fa2226d9f9",
   "metadata": {},
   "outputs": [],
   "source": [
    "model_B = Sequential([\n",
    "  data_augmentation,\n",
    "  layers.Rescaling(1./255),\n",
    "  layers.Conv2D(16, 3, padding='same', activation='relu'),\n",
    "  layers.MaxPooling2D(),\n",
    "  layers.Conv2D(32, 3, padding='same', activation='relu'),\n",
    "  layers.MaxPooling2D(),\n",
    "  layers.Conv2D(64, 3, padding='same', activation='relu'),\n",
    "  layers.MaxPooling2D(),\n",
    "  layers.Dropout(0.2),\n",
    "  layers.Flatten(),\n",
    "  layers.Dense(128, activation='relu'),\n",
    "  layers.Dense(num_classes, name=\"outputs\")\n",
    "])"
   ]
  },
  {
   "cell_type": "code",
   "execution_count": 45,
   "id": "f97362ff-8259-4b74-a954-59c10f02e3ba",
   "metadata": {},
   "outputs": [],
   "source": [
    "model_B.compile(optimizer='adam',\n",
    "              loss=tf.keras.losses.SparseCategoricalCrossentropy(from_logits=True),\n",
    "              metrics=['accuracy'])"
   ]
  },
  {
   "cell_type": "code",
   "execution_count": 46,
   "id": "7bff8274-de6d-4a8d-abc8-13daa1cd5d7c",
   "metadata": {},
   "outputs": [
    {
     "name": "stdout",
     "output_type": "stream",
     "text": [
      "Model: \"sequential_7\"\n",
      "_________________________________________________________________\n",
      " Layer (type)                Output Shape              Param #   \n",
      "=================================================================\n",
      " sequential_6 (Sequential)   (None, 180, 180, 3)       0         \n",
      "                                                                 \n",
      " rescaling_5 (Rescaling)     (None, 180, 180, 3)       0         \n",
      "                                                                 \n",
      " conv2d_12 (Conv2D)          (None, 180, 180, 16)      448       \n",
      "                                                                 \n",
      " max_pooling2d_12 (MaxPoolin  (None, 90, 90, 16)       0         \n",
      " g2D)                                                            \n",
      "                                                                 \n",
      " conv2d_13 (Conv2D)          (None, 90, 90, 32)        4640      \n",
      "                                                                 \n",
      " max_pooling2d_13 (MaxPoolin  (None, 45, 45, 32)       0         \n",
      " g2D)                                                            \n",
      "                                                                 \n",
      " conv2d_14 (Conv2D)          (None, 45, 45, 64)        18496     \n",
      "                                                                 \n",
      " max_pooling2d_14 (MaxPoolin  (None, 22, 22, 64)       0         \n",
      " g2D)                                                            \n",
      "                                                                 \n",
      " dropout_2 (Dropout)         (None, 22, 22, 64)        0         \n",
      "                                                                 \n",
      " flatten_4 (Flatten)         (None, 30976)             0         \n",
      "                                                                 \n",
      " dense_6 (Dense)             (None, 128)               3965056   \n",
      "                                                                 \n",
      " outputs (Dense)             (None, 4)                 516       \n",
      "                                                                 \n",
      "=================================================================\n",
      "Total params: 3,989,156\n",
      "Trainable params: 3,989,156\n",
      "Non-trainable params: 0\n",
      "_________________________________________________________________\n"
     ]
    }
   ],
   "source": [
    "model_B.summary()"
   ]
  },
  {
   "cell_type": "code",
   "execution_count": 47,
   "id": "7ffd9897-1b3b-4dbb-bf06-40302f36deec",
   "metadata": {},
   "outputs": [
    {
     "name": "stdout",
     "output_type": "stream",
     "text": [
      "Epoch 1/15\n",
      "113/113 [==============================] - 42s 362ms/step - loss: 0.2895 - accuracy: 0.9448 - val_loss: 0.2456 - val_accuracy: 0.9500\n",
      "Epoch 2/15\n",
      "113/113 [==============================] - 41s 361ms/step - loss: 0.2524 - accuracy: 0.9492 - val_loss: 0.2487 - val_accuracy: 0.9500\n",
      "Epoch 3/15\n",
      "113/113 [==============================] - 44s 386ms/step - loss: 0.2503 - accuracy: 0.9492 - val_loss: 0.2415 - val_accuracy: 0.9500\n",
      "Epoch 4/15\n",
      "113/113 [==============================] - 46s 409ms/step - loss: 0.2516 - accuracy: 0.9492 - val_loss: 0.2487 - val_accuracy: 0.9500\n",
      "Epoch 5/15\n",
      "113/113 [==============================] - 47s 415ms/step - loss: 0.2479 - accuracy: 0.9492 - val_loss: 0.2612 - val_accuracy: 0.9500\n",
      "Epoch 6/15\n",
      "113/113 [==============================] - 47s 412ms/step - loss: 0.2473 - accuracy: 0.9492 - val_loss: 0.2442 - val_accuracy: 0.9500\n",
      "Epoch 7/15\n",
      "113/113 [==============================] - 43s 378ms/step - loss: 0.2502 - accuracy: 0.9492 - val_loss: 0.2424 - val_accuracy: 0.9500\n",
      "Epoch 8/15\n",
      "113/113 [==============================] - 49s 431ms/step - loss: 0.2493 - accuracy: 0.9492 - val_loss: 0.2430 - val_accuracy: 0.9500\n",
      "Epoch 9/15\n",
      "113/113 [==============================] - 48s 427ms/step - loss: 0.2470 - accuracy: 0.9492 - val_loss: 0.2416 - val_accuracy: 0.9500\n",
      "Epoch 10/15\n",
      "113/113 [==============================] - 42s 375ms/step - loss: 0.2460 - accuracy: 0.9492 - val_loss: 0.2470 - val_accuracy: 0.9500\n",
      "Epoch 11/15\n",
      "113/113 [==============================] - 43s 385ms/step - loss: 0.2481 - accuracy: 0.9492 - val_loss: 0.2470 - val_accuracy: 0.9500\n",
      "Epoch 12/15\n",
      "113/113 [==============================] - 44s 394ms/step - loss: 0.2468 - accuracy: 0.9492 - val_loss: 0.2500 - val_accuracy: 0.9500\n",
      "Epoch 13/15\n",
      "113/113 [==============================] - 45s 396ms/step - loss: 0.2447 - accuracy: 0.9492 - val_loss: 0.2422 - val_accuracy: 0.9500\n",
      "Epoch 14/15\n",
      "113/113 [==============================] - 44s 389ms/step - loss: 0.2484 - accuracy: 0.9492 - val_loss: 0.2406 - val_accuracy: 0.9500\n",
      "Epoch 15/15\n",
      "113/113 [==============================] - 43s 378ms/step - loss: 0.2481 - accuracy: 0.9492 - val_loss: 0.2431 - val_accuracy: 0.9500\n"
     ]
    }
   ],
   "source": [
    "epochs = 15\n",
    "history_B = model_B.fit(\n",
    "  train_ds,\n",
    "  validation_data=val_ds,\n",
    "  epochs=epochs\n",
    ")"
   ]
  },
  {
   "cell_type": "code",
   "execution_count": 52,
   "id": "d9e2d4fe-78a8-4dd8-b23a-04e88620f267",
   "metadata": {},
   "outputs": [
    {
     "data": {
      "image/png": "[encoded data removed]",
      "text/plain": [
       "<Figure size 576x576 with 2 Axes>"
      ]
     },
     "metadata": {
      "needs_background": "light"
     },
     "output_type": "display_data"
    }
   ],
   "source": [
    "acc = history_B.history['accuracy']\n",
    "val_acc = history_B.history['val_accuracy']\n",
    "\n",
    "loss = history_B.history['loss']\n",
    "val_loss = history_B.history['val_loss']\n",
    "\n",
    "epochs_range = range(epochs)\n",
    "\n",
    "plt.figure(figsize=(8, 8))\n",
    "plt.subplot(1, 2, 1)\n",
    "plt.plot(epochs_range, acc, label='Training Accuracy')\n",
    "plt.plot(epochs_range, val_acc, label='Validation Accuracy')\n",
    "plt.legend(loc='lower right')\n",
    "plt.xlabel(\"Epoch\")\n",
    "plt.ylabel(\"Accuracy (%)\")\n",
    "plt.title('Training and Validation Accuracy')\n",
    "\n",
    "plt.subplot(1, 2, 2)\n",
    "plt.plot(epochs_range, loss, label='Training Loss')\n",
    "plt.plot(epochs_range, val_loss, label='Validation Loss')\n",
    "plt.legend(loc='upper right')\n",
    "plt.xlabel(\"Epoch\")\n",
    "plt.ylabel(\"Loss (%)\")\n",
    "plt.title('Training and Validation Loss')\n",
    "plt.tight_layout()\n",
    "plt.show()"
   ]
  },
  {
   "cell_type": "code",
   "execution_count": null,
   "id": "56db35fc-b4c2-4c4b-b29c-f916303d6be4",
   "metadata": {},
   "outputs": [],
   "source": []
  },
  {
   "cell_type": "code",
   "execution_count": null,
   "id": "42166e76-59bd-41ef-afbb-3fe520272313",
   "metadata": {},
   "outputs": [],
   "source": []
  }
 ],
 "metadata": {
  "kernelspec": {
   "display_name": "Python 3",
   "language": "python",
   "name": "python3"
  },
  "language_info": {
   "codemirror_mode": {
    "name": "ipython",
    "version": 3
   },
   "file_extension": ".py",
   "mimetype": "text/x-python",
   "name": "python",
   "nbconvert_exporter": "python",
   "pygments_lexer": "ipython3",
   "version": "3.8.8"
  }
 },
 "nbformat": 4,
 "nbformat_minor": 5
}
